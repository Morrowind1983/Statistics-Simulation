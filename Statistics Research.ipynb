{
 "cells": [
  {
   "cell_type": "code",
   "execution_count": 1,
   "metadata": {
    "collapsed": true
   },
   "outputs": [],
   "source": [
    "import numpy as np"
   ]
  },
  {
   "cell_type": "code",
   "execution_count": 2,
   "metadata": {},
   "outputs": [
    {
     "name": "stdout",
     "output_type": "stream",
     "text": [
      "population size = 100000\n",
      "population dist. std = 15.166390\n",
      "population dist. var = 230.019390\n",
      "population dist. mean = 36.999670\n",
      "population dist. median = 36.000000\n",
      "population dist. max = 80.000000\n",
      "population dist. min = 0.000000\n"
     ]
    }
   ],
   "source": [
    "# Population size\n",
    "N = 100000\n",
    "\n",
    "# Dist. of population\n",
    "population = []\n",
    "\n",
    "for i in range(0, N):\n",
    "    population.append((i*i)%17+(i*i*i)%23+(i*i*i*i)%47)\n",
    "    \n",
    "print(\"population size = %d\"%N)    \n",
    "print(\"population dist. std = %f\"%np.std(population))\n",
    "print(\"population dist. var = %f\"%np.var(population))\n",
    "print(\"population dist. mean = %f\"%np.mean(population))\n",
    "print(\"population dist. median = %f\"%np.median(population))\n",
    "print(\"population dist. max = %f\"%np.max(population))\n",
    "print(\"population dist. min = %f\"%np.min(population))"
   ]
  },
  {
   "cell_type": "code",
   "execution_count": 3,
   "metadata": {},
   "outputs": [
    {
     "name": "stdout",
     "output_type": "stream",
     "text": [
      "[57 37 40 49 51 41 40 35 54 33 35 30 53 17 47 26 57 54 37 34 24 34 29 32 25\n",
      " 54 56 35 44 45]\n",
      "sample size = 30\n",
      "sample dist. std = 10.936432\n",
      "sample dist. var = 119.605556\n",
      "fixed sample dist. var = 123.729885\n",
      "sample dist. mean = 40.166667\n",
      "sample dist. median = 38.500000\n",
      "sample dist. max = 57.000000\n",
      "sample dist. min = 17.000000\n"
     ]
    }
   ],
   "source": [
    "# Sample size\n",
    "n = 30\n",
    "\n",
    "# Pick n samples from population\n",
    "sample = np.random.choice(population, n)\n",
    "\n",
    "print(sample)\n",
    "print(\"sample size = %d\"%n)\n",
    "print(\"sample dist. std = %f\"%np.std(sample))\n",
    "print(\"sample dist. var = %f\"%np.var(sample))\n",
    "print(\"fixed sample dist. var = %f\"%(np.var(sample)*n/(n-1)))\n",
    "print(\"sample dist. mean = %f\"%np.mean(sample))\n",
    "print(\"sample dist. median = %f\"%np.median(sample))\n",
    "print(\"sample dist. max = %f\"%np.max(sample))\n",
    "print(\"sample dist. min = %f\"%np.min(sample))"
   ]
  },
  {
   "cell_type": "code",
   "execution_count": 4,
   "metadata": {},
   "outputs": [
    {
     "name": "stdout",
     "output_type": "stream",
     "text": [
      "sample var dist. mean = 205.976050\n",
      "fixed sample var dist. mean = 228.862278\n",
      "sample mean dist. mean = 37.137500\n",
      "sample mean dist. std = 4.726790\n"
     ]
    }
   ],
   "source": [
    "# Sample size\n",
    "n = 10\n",
    "\n",
    "# Trial times\n",
    "t = 1000\n",
    "\n",
    "# Dist. of sample var\n",
    "var_dist = []\n",
    "\n",
    "# Dist. if fixed sample var\n",
    "fixed_var_dist = []\n",
    "\n",
    "# Dist. of sample mean is normal dist. whatever the population dist. is\n",
    "mean_dist = []\n",
    "\n",
    "for i in range(t):\n",
    "    sample = np.random.choice(population, n)\n",
    "    var = np.var(sample)\n",
    "    var_dist.append(var)\n",
    "    fixed_var_dist.append(var*n/(n-1))\n",
    "    \n",
    "    mean = np.mean(sample)\n",
    "    mean_dist.append(mean)\n",
    "    \n",
    "print(\"sample var dist. mean = %f\"%np.mean(var_dist))\n",
    "print(\"fixed sample var dist. mean = %f\"%np.mean(fixed_var_dist))\n",
    "\n",
    "# The mean of sample mean dist. is equal to population dist. mean\n",
    "print(\"sample mean dist. mean = %f\"%np.mean(mean_dist))\n",
    "\n",
    "# The standard deviation of sample mean dist. is equal to the standard deviation of population dist. divide by sqrt(n) when n > 30\n",
    "print(\"sample mean dist. std = %f\"%np.std(mean_dist))"
   ]
  },
  {
   "cell_type": "code",
   "execution_count": null,
   "metadata": {
    "collapsed": true
   },
   "outputs": [],
   "source": []
  }
 ],
 "metadata": {
  "kernelspec": {
   "display_name": "Python 3",
   "language": "python",
   "name": "python3"
  },
  "language_info": {
   "codemirror_mode": {
    "name": "ipython",
    "version": 3
   },
   "file_extension": ".py",
   "mimetype": "text/x-python",
   "name": "python",
   "nbconvert_exporter": "python",
   "pygments_lexer": "ipython3",
   "version": "3.6.1"
  }
 },
 "nbformat": 4,
 "nbformat_minor": 2
}
